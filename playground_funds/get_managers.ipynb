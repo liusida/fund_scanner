{
 "cells": [
  {
   "cell_type": "code",
   "execution_count": 1,
   "metadata": {
    "collapsed": true
   },
   "outputs": [],
   "source": [
    "import base\n",
    "\n",
    "import pandas as pd\n",
    "import json\n",
    "from collections import namedtuple\n",
    "import re\n",
    "import ngender\n",
    "import time\n"
   ]
  },
  {
   "cell_type": "code",
   "execution_count": 2,
   "metadata": {
    "collapsed": true
   },
   "outputs": [],
   "source": [
    "# my private modules\n",
    "import fund_scanner.database\n",
    "import fund_scanner.readurl"
   ]
  },
  {
   "cell_type": "code",
   "execution_count": 16,
   "metadata": {
    "collapsed": false
   },
   "outputs": [],
   "source": [
    "#page=page_index,items_in_one_page\n",
    "\n",
    "url = 'http://fund.eastmoney.com/Data/FundDataPortfolio_Interface.aspx?dt=14&mc=returnjson&ft=all&pn=1000000&pi=1&sc=abbname&st=asc'\n",
    "\n",
    "body = fund_scanner.readurl.read_from_url(url)\n"
   ]
  },
  {
   "cell_type": "code",
   "execution_count": 17,
   "metadata": {
    "collapsed": true
   },
   "outputs": [],
   "source": [
    "insider = re.search('\\[\\[(.*?)\\]\\]', body).group(1)\n",
    "insider = insider.replace('\\'', '\"')\n",
    "insider = '{\"main\":[['+insider+']]}'\n",
    "obj = json.loads(insider, object_hook=lambda d: namedtuple('X', d.keys())(*d.values()))\n",
    "df =pd.DataFrame(obj.main)\n",
    "df.sort_values(by=2)\n",
    "#df = df.loc[:,[0,1,2,7,9]]\n",
    "df.columns = [\n",
    "    'managers_code', 'managers_name', 'manager_2_company', 'company_name',\n",
    "    'manager_2_funds', 'funds_names', 'working_days', \n",
    "    '现任基金最佳回报', '现任基金代码', '现任基金名称', '现任基金资产总规模', '任职期间最佳回报'\n",
    "]"
   ]
  },
  {
   "cell_type": "code",
   "execution_count": 19,
   "metadata": {
    "collapsed": false
   },
   "outputs": [
    {
     "data": {
      "text/html": [
       "<div>\n",
       "<style>\n",
       "    .dataframe thead tr:only-child th {\n",
       "        text-align: right;\n",
       "    }\n",
       "\n",
       "    .dataframe thead th {\n",
       "        text-align: left;\n",
       "    }\n",
       "\n",
       "    .dataframe tbody tr th {\n",
       "        vertical-align: top;\n",
       "    }\n",
       "</style>\n",
       "<table border=\"1\" class=\"dataframe\">\n",
       "  <thead>\n",
       "    <tr style=\"text-align: right;\">\n",
       "      <th></th>\n",
       "      <th>managers_code</th>\n",
       "      <th>managers_name</th>\n",
       "      <th>manager_2_company</th>\n",
       "      <th>company_name</th>\n",
       "      <th>manager_2_funds</th>\n",
       "      <th>funds_names</th>\n",
       "      <th>working_days</th>\n",
       "      <th>现任基金最佳回报</th>\n",
       "      <th>现任基金代码</th>\n",
       "      <th>现任基金名称</th>\n",
       "      <th>现任基金资产总规模</th>\n",
       "      <th>任职期间最佳回报</th>\n",
       "    </tr>\n",
       "  </thead>\n",
       "  <tbody>\n",
       "    <tr>\n",
       "      <th>0</th>\n",
       "      <td>30277862</td>\n",
       "      <td>艾小军</td>\n",
       "      <td>80000224</td>\n",
       "      <td>国泰基金</td>\n",
       "      <td>000199,000218,001789,004253,020011,020021,0200...</td>\n",
       "      <td>国泰策略收益灵活配置混合,国泰黄金ETF联接A,国泰量化收益灵活配置混合,国泰黄金ETF联接...</td>\n",
       "      <td>1292</td>\n",
       "      <td>100.76%</td>\n",
       "      <td>510230</td>\n",
       "      <td>国泰上证180金融ETF</td>\n",
       "      <td>82.30亿元</td>\n",
       "      <td>100.76%</td>\n",
       "    </tr>\n",
       "  </tbody>\n",
       "</table>\n",
       "</div>"
      ],
      "text/plain": [
       "  managers_code managers_name manager_2_company company_name  \\\n",
       "0      30277862           艾小军          80000224         国泰基金   \n",
       "\n",
       "                                     manager_2_funds  \\\n",
       "0  000199,000218,001789,004253,020011,020021,0200...   \n",
       "\n",
       "                                         funds_names working_days 现任基金最佳回报  \\\n",
       "0  国泰策略收益灵活配置混合,国泰黄金ETF联接A,国泰量化收益灵活配置混合,国泰黄金ETF联接...         1292  100.76%   \n",
       "\n",
       "   现任基金代码        现任基金名称 现任基金资产总规模 任职期间最佳回报  \n",
       "0  510230  国泰上证180金融ETF   82.30亿元  100.76%  "
      ]
     },
     "execution_count": 19,
     "metadata": {},
     "output_type": "execute_result"
    }
   ],
   "source": [
    "df.head(1)"
   ]
  },
  {
   "cell_type": "code",
   "execution_count": 34,
   "metadata": {
    "collapsed": false
   },
   "outputs": [
    {
     "name": "stderr",
     "output_type": "stream",
     "text": [
      "/home/liusida/anaconda3/lib/python3.5/site-packages/pymysql/cursors.py:323: Warning: (1265, \"Data truncated for column 'working_since_date' at row 1\")\n",
      "  self._do_get_result()\n"
     ]
    }
   ],
   "source": [
    "with fund_scanner.database.get_connection() as cursor:\n",
    "\n",
    "    for index, row in df.iterrows():\n",
    "        #print(row['净值日期'])\n",
    "        sql = 'INSERT INTO managers '+\\\n",
    "        '(managers_name, managers_code, working_since_date) '+\\\n",
    "        'VALUES (%s,%s,DATE_SUB(Now(), interval %s day)) ON DUPLICATE KEY UPDATE '+\\\n",
    "        'managers_name=%s, working_since_date=DATE_SUB(Now(), interval %s day);'\n",
    "        cursor.execute(\n",
    "            sql, (\n",
    "                row['managers_name'],\n",
    "                row['managers_code'], \n",
    "                base.extract_float(row, 'working_days'),\n",
    "                row['managers_name'], \n",
    "                base.extract_float(row, 'working_days')\n",
    "            )\n",
    "        )\n",
    "        \n",
    "        sql = 'select managers_id from managers where managers_code=%s limit 0,1;'\n",
    "        cursor.execute(sql, (row['managers_code']))\n",
    "        rs = cursor.fetchone()\n",
    "        managers_id = rs['managers_id']\n",
    "\n",
    "        sql = 'select companies_id from companies where companies_code=%s limit 0,1;'\n",
    "        cursor.execute(sql, (row['manager_2_company']))\n",
    "        rs = cursor.fetchone()\n",
    "        companies_id = rs['companies_id']\n",
    "\n",
    "        sql = 'Insert into companies_2_managers '+\\\n",
    "        '(managers_id, companies_id) '+\\\n",
    "        'values (%s, %s) ON DUPLICATE KEY UPDATE '+\\\n",
    "        'companies_id=%s;'\n",
    "        cursor.execute(sql, (managers_id, companies_id, companies_id))\n",
    "\n",
    "        \n",
    "        sql = 'delete from managers_2_funds where managers_id=%s'\n",
    "        cursor.execute(sql, (managers_id))\n",
    "        in_p = ', '.join(list(map(lambda x: '%s', row['manager_2_funds'].split(','))))\n",
    "        sql = 'select funds_id from funds where funds_code in (%s);'%in_p\n",
    "        args = row['manager_2_funds'].split(',')\n",
    "        cursor.execute(sql, args)\n",
    "        rs = cursor.fetchall()\n",
    "        for e in rs:\n",
    "            sql = 'Insert into managers_2_funds '+\\\n",
    "            '(managers_id, funds_id) '+\\\n",
    "            'values (%s, %s);'\n",
    "            cursor.execute(sql, (managers_id, e['funds_id']))\n",
    "\n",
    "\n",
    "\n",
    "\n",
    "\n"
   ]
  },
  {
   "cell_type": "code",
   "execution_count": 26,
   "metadata": {
    "collapsed": false
   },
   "outputs": [
    {
     "data": {
      "text/plain": [
       "['000199',\n",
       " '000218',\n",
       " '001789',\n",
       " '004253',\n",
       " '020011',\n",
       " '020021',\n",
       " '020022',\n",
       " '150215',\n",
       " '150216',\n",
       " '160224',\n",
       " '501016',\n",
       " '501019',\n",
       " '510230',\n",
       " '512660',\n",
       " '512880',\n",
       " '518800']"
      ]
     },
     "execution_count": 26,
     "metadata": {},
     "output_type": "execute_result"
    }
   ],
   "source": [
    "row['manager_2_funds'].split(',')"
   ]
  }
 ],
 "metadata": {
  "anaconda-cloud": {},
  "kernelspec": {
   "display_name": "Python [conda root]",
   "language": "python",
   "name": "conda-root-py"
  },
  "language_info": {
   "codemirror_mode": {
    "name": "ipython",
    "version": 3
   },
   "file_extension": ".py",
   "mimetype": "text/x-python",
   "name": "python",
   "nbconvert_exporter": "python",
   "pygments_lexer": "ipython3",
   "version": "3.5.2"
  }
 },
 "nbformat": 4,
 "nbformat_minor": 1
}
