{
 "cells": [
  {
   "cell_type": "code",
   "execution_count": 1,
   "metadata": {
    "collapsed": false
   },
   "outputs": [],
   "source": [
    "import pandas as pd\n",
    "from IPython.display import display, HTML\n",
    "\n",
    "import base\n",
    "import fund_scanner.business.grab_data as grab_data\n",
    "import fund_scanner.common_tools.database as db\n",
    "engine = db.get_sqlalchemy_engine()"
   ]
  },
  {
   "cell_type": "code",
   "execution_count": 9,
   "metadata": {
    "collapsed": false
   },
   "outputs": [],
   "source": [
    "df = pd.read_sql('select * from `funds` order by `update_time` limit 5', engine)\n",
    "funds_code = df['funds_code'].tolist()\n",
    "#print(funds_code)\n",
    "funds = grab_data.get_funds(funds_code)\n",
    "#display(funds)\n",
    "grab_data.write_funds_to_database(funds)\n",
    "\n",
    "\n",
    "df = pd.read_sql('select * from `funds` a left join `funds_update` b on a.`funds_id`=b.`funds_id` where a.`funds_code`=%s'%funds_code[0], engine)\n"
   ]
  },
  {
   "cell_type": "code",
   "execution_count": 3,
   "metadata": {
    "collapsed": false
   },
   "outputs": [
    {
     "data": {
      "text/html": [
       "<div>\n",
       "<style>\n",
       "    .dataframe thead tr:only-child th {\n",
       "        text-align: right;\n",
       "    }\n",
       "\n",
       "    .dataframe thead th {\n",
       "        text-align: left;\n",
       "    }\n",
       "\n",
       "    .dataframe tbody tr th {\n",
       "        vertical-align: top;\n",
       "    }\n",
       "</style>\n",
       "<table border=\"1\" class=\"dataframe\">\n",
       "  <thead>\n",
       "    <tr style=\"text-align: right;\">\n",
       "      <th></th>\n",
       "      <th>funds_id</th>\n",
       "      <th>funds_code</th>\n",
       "      <th>funds_name_full</th>\n",
       "      <th>funds_type</th>\n",
       "      <th>funds_start_date</th>\n",
       "      <th>update_time</th>\n",
       "      <th>historical_price_time</th>\n",
       "      <th>funds_update_id</th>\n",
       "      <th>funds_id</th>\n",
       "      <th>funds_price</th>\n",
       "      <th>...</th>\n",
       "      <th>funds_sharp_2_year</th>\n",
       "      <th>funds_sharp_3_year</th>\n",
       "      <th>funds_structure_personal</th>\n",
       "      <th>funds_structure_institutional</th>\n",
       "      <th>funds_structure_employee</th>\n",
       "      <th>funds_holding_concentration</th>\n",
       "      <th>funds_holding_stock_percentage</th>\n",
       "      <th>funds_holding_bond_percentage</th>\n",
       "      <th>funds_holding_cash_percentage</th>\n",
       "      <th>update_time</th>\n",
       "    </tr>\n",
       "  </thead>\n",
       "  <tbody>\n",
       "    <tr>\n",
       "      <th>0</th>\n",
       "      <td>5107</td>\n",
       "      <td>003055</td>\n",
       "      <td>博时招财二号保本</td>\n",
       "      <td>保本型</td>\n",
       "      <td>2016-08-09</td>\n",
       "      <td>2017-07-31 19:33:26</td>\n",
       "      <td>2017-07-31 17:01:08</td>\n",
       "      <td>6048</td>\n",
       "      <td>5107</td>\n",
       "      <td>1.02</td>\n",
       "      <td>...</td>\n",
       "      <td>None</td>\n",
       "      <td>None</td>\n",
       "      <td>None</td>\n",
       "      <td>None</td>\n",
       "      <td>None</td>\n",
       "      <td>None</td>\n",
       "      <td>None</td>\n",
       "      <td>None</td>\n",
       "      <td>None</td>\n",
       "      <td>2017-07-31 19:33:26</td>\n",
       "    </tr>\n",
       "  </tbody>\n",
       "</table>\n",
       "<p>1 rows × 33 columns</p>\n",
       "</div>"
      ],
      "text/plain": [
       "   funds_id funds_code funds_name_full funds_type funds_start_date  \\\n",
       "0      5107     003055        博时招财二号保本        保本型       2016-08-09   \n",
       "\n",
       "          update_time historical_price_time  funds_update_id  funds_id  \\\n",
       "0 2017-07-31 19:33:26   2017-07-31 17:01:08             6048      5107   \n",
       "\n",
       "   funds_price         ...          funds_sharp_2_year  funds_sharp_3_year  \\\n",
       "0         1.02         ...                        None                None   \n",
       "\n",
       "   funds_structure_personal  funds_structure_institutional  \\\n",
       "0                      None                           None   \n",
       "\n",
       "   funds_structure_employee funds_holding_concentration  \\\n",
       "0                      None                        None   \n",
       "\n",
       "  funds_holding_stock_percentage funds_holding_bond_percentage  \\\n",
       "0                           None                          None   \n",
       "\n",
       "  funds_holding_cash_percentage         update_time  \n",
       "0                          None 2017-07-31 19:33:26  \n",
       "\n",
       "[1 rows x 33 columns]"
      ]
     },
     "execution_count": 3,
     "metadata": {},
     "output_type": "execute_result"
    }
   ],
   "source": [
    "df\n"
   ]
  }
 ],
 "metadata": {
  "anaconda-cloud": {},
  "kernelspec": {
   "display_name": "Python [conda root]",
   "language": "python",
   "name": "conda-root-py"
  },
  "language_info": {
   "codemirror_mode": {
    "name": "ipython",
    "version": 3
   },
   "file_extension": ".py",
   "mimetype": "text/x-python",
   "name": "python",
   "nbconvert_exporter": "python",
   "pygments_lexer": "ipython3",
   "version": "3.5.2"
  }
 },
 "nbformat": 4,
 "nbformat_minor": 1
}
