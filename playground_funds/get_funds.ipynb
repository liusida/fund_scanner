{
 "cells": [
  {
   "cell_type": "code",
   "execution_count": 1,
   "metadata": {
    "collapsed": true
   },
   "outputs": [],
   "source": [
    "import base\n",
    "\n",
    "import pandas as pd\n",
    "import json\n",
    "from collections import namedtuple\n",
    "import re\n",
    "import ngender\n"
   ]
  },
  {
   "cell_type": "code",
   "execution_count": 2,
   "metadata": {
    "collapsed": false
   },
   "outputs": [],
   "source": [
    "# my private modules\n",
    "import fund_scanner.database\n",
    "import fund_scanner.readurl"
   ]
  },
  {
   "cell_type": "code",
   "execution_count": 3,
   "metadata": {
    "collapsed": true
   },
   "outputs": [],
   "source": [
    "#page=page_index,items_in_one_page\n",
    "\n",
    "url = 'http://fund.eastmoney.com/Data/Fund_JJJZ_Data.aspx?t=1&lx=1&letter=&gsid=&text=&sort=zdf,desc&page=1,100000&dt=1501051811136&atfc=&onlySale=0'\n",
    "\n",
    "fund_scanner.readurl.read_from_url(url, 'tmp/bigfile')\n",
    "body = fund_scanner.readurl.read_from_file('tmp/bigfile')\n"
   ]
  },
  {
   "cell_type": "code",
   "execution_count": 4,
   "metadata": {
    "collapsed": false
   },
   "outputs": [],
   "source": [
    "body = body[re.search('{', body).start():]\n",
    "insider = re.search('\\[\\[(.*?)\\]\\]', body).group(1)\n",
    "insider = '{\"main\":[['+insider+']]}'\n",
    "obj = json.loads(insider, object_hook=lambda d: namedtuple('X', d.keys())(*d.values()))\n",
    "df =pd.DataFrame(obj.main)"
   ]
  },
  {
   "cell_type": "code",
   "execution_count": 5,
   "metadata": {
    "collapsed": false
   },
   "outputs": [
    {
     "data": {
      "text/html": [
       "<div>\n",
       "<style>\n",
       "    .dataframe thead tr:only-child th {\n",
       "        text-align: right;\n",
       "    }\n",
       "\n",
       "    .dataframe thead th {\n",
       "        text-align: left;\n",
       "    }\n",
       "\n",
       "    .dataframe tbody tr th {\n",
       "        vertical-align: top;\n",
       "    }\n",
       "</style>\n",
       "<table border=\"1\" class=\"dataframe\">\n",
       "  <thead>\n",
       "    <tr style=\"text-align: right;\">\n",
       "      <th></th>\n",
       "      <th>funds.funds_code</th>\n",
       "      <th>funds.funds_name_full</th>\n",
       "      <th>funds_update.funds_price</th>\n",
       "      <th>funds_update.funds_price_adjust</th>\n",
       "    </tr>\n",
       "  </thead>\n",
       "  <tbody>\n",
       "    <tr>\n",
       "      <th>0</th>\n",
       "      <td>003620</td>\n",
       "      <td>招商睿乾混合</td>\n",
       "      <td>1.08</td>\n",
       "      <td>1.08</td>\n",
       "    </tr>\n",
       "    <tr>\n",
       "      <th>1</th>\n",
       "      <td>160221</td>\n",
       "      <td>国泰国证有色金属行业指数分级</td>\n",
       "      <td>1.1689</td>\n",
       "      <td>0.8012</td>\n",
       "    </tr>\n",
       "    <tr>\n",
       "      <th>2</th>\n",
       "      <td>165520</td>\n",
       "      <td>信诚中证800有色指数分级</td>\n",
       "      <td>1.2260</td>\n",
       "      <td>1.3160</td>\n",
       "    </tr>\n",
       "    <tr>\n",
       "      <th>3</th>\n",
       "      <td>257060</td>\n",
       "      <td>国联安商品ETF联接</td>\n",
       "      <td>0.6368</td>\n",
       "      <td>0.6368</td>\n",
       "    </tr>\n",
       "    <tr>\n",
       "      <th>4</th>\n",
       "      <td>161715</td>\n",
       "      <td>招商大宗商品(LOF)</td>\n",
       "      <td>1.1480</td>\n",
       "      <td>1.2860</td>\n",
       "    </tr>\n",
       "    <tr>\n",
       "      <th>5</th>\n",
       "      <td>519173</td>\n",
       "      <td>浦银安盛睿智精选混合C</td>\n",
       "      <td>1.1080</td>\n",
       "      <td>1.1080</td>\n",
       "    </tr>\n",
       "    <tr>\n",
       "      <th>6</th>\n",
       "      <td>001559</td>\n",
       "      <td>天弘中证大宗商品股票指数C</td>\n",
       "      <td>0.8209</td>\n",
       "      <td>0.8209</td>\n",
       "    </tr>\n",
       "    <tr>\n",
       "      <th>7</th>\n",
       "      <td>519176</td>\n",
       "      <td>浦银安盛消费升级混合C</td>\n",
       "      <td>1.6330</td>\n",
       "      <td>1.6330</td>\n",
       "    </tr>\n",
       "    <tr>\n",
       "      <th>8</th>\n",
       "      <td>001558</td>\n",
       "      <td>天弘中证大宗商品股票指数A</td>\n",
       "      <td>0.8255</td>\n",
       "      <td>0.8255</td>\n",
       "    </tr>\n",
       "    <tr>\n",
       "      <th>9</th>\n",
       "      <td>519125</td>\n",
       "      <td>浦银安盛消费升级混合A</td>\n",
       "      <td>1.6420</td>\n",
       "      <td>1.6420</td>\n",
       "    </tr>\n",
       "  </tbody>\n",
       "</table>\n",
       "</div>"
      ],
      "text/plain": [
       "  funds.funds_code funds.funds_name_full funds_update.funds_price  \\\n",
       "0           003620                招商睿乾混合                     1.08   \n",
       "1           160221        国泰国证有色金属行业指数分级                   1.1689   \n",
       "2           165520         信诚中证800有色指数分级                   1.2260   \n",
       "3           257060            国联安商品ETF联接                   0.6368   \n",
       "4           161715           招商大宗商品(LOF)                   1.1480   \n",
       "5           519173           浦银安盛睿智精选混合C                   1.1080   \n",
       "6           001559         天弘中证大宗商品股票指数C                   0.8209   \n",
       "7           519176           浦银安盛消费升级混合C                   1.6330   \n",
       "8           001558         天弘中证大宗商品股票指数A                   0.8255   \n",
       "9           519125           浦银安盛消费升级混合A                   1.6420   \n",
       "\n",
       "  funds_update.funds_price_adjust  \n",
       "0                            1.08  \n",
       "1                          0.8012  \n",
       "2                          1.3160  \n",
       "3                          0.6368  \n",
       "4                          1.2860  \n",
       "5                          1.1080  \n",
       "6                          0.8209  \n",
       "7                          1.6330  \n",
       "8                          0.8255  \n",
       "9                          1.6420  "
      ]
     },
     "execution_count": 5,
     "metadata": {},
     "output_type": "execute_result"
    }
   ],
   "source": [
    "new_df = df.iloc[:,[0,1,3,4]]\n",
    "new_df.columns = ['funds.funds_code', 'funds.funds_name_full', \n",
    "                  'funds_update.funds_price', 'funds_update.funds_price_adjust']\n",
    "new_df.head(10)\n"
   ]
  },
  {
   "cell_type": "code",
   "execution_count": 6,
   "metadata": {
    "collapsed": false
   },
   "outputs": [],
   "source": [
    "# Connect to the database\n",
    "connection = fund_scanner.database.get_connection()\n",
    "\n",
    "def write_to_sql(row):\n",
    "    global connection\n",
    "    with connection.cursor() as cursor:\n",
    "        sql = 'INSERT INTO funds (funds_code,funds_name_full) VALUES (%s,%s) ON DUPLICATE KEY UPDATE funds_name_full=%s;'\n",
    "        cursor.execute(sql, (row[0],row[1],row[1]))\n",
    "\n",
    "    \n",
    "try:\n",
    "    new_df.apply(write_to_sql, axis=1)\n",
    "    connection.commit()\n",
    "finally:\n",
    "    connection.close()"
   ]
  },
  {
   "cell_type": "code",
   "execution_count": 7,
   "metadata": {
    "collapsed": false
   },
   "outputs": [
    {
     "name": "stdout",
     "output_type": "stream",
     "text": [
      "a\n"
     ]
    },
    {
     "ename": "NameError",
     "evalue": "name 'database' is not defined",
     "output_type": "error",
     "traceback": [
      "\u001b[0;31m---------------------------------------------------------------------------\u001b[0m",
      "\u001b[0;31mNameError\u001b[0m                                 Traceback (most recent call last)",
      "\u001b[0;32m<ipython-input-7-421286215849>\u001b[0m in \u001b[0;36m<module>\u001b[0;34m()\u001b[0m\n\u001b[1;32m      4\u001b[0m     \u001b[0mprint\u001b[0m\u001b[0;34m(\u001b[0m\u001b[0;34m'a'\u001b[0m\u001b[0;34m)\u001b[0m\u001b[0;34m\u001b[0m\u001b[0m\n\u001b[1;32m      5\u001b[0m \u001b[0;34m\u001b[0m\u001b[0m\n\u001b[0;32m----> 6\u001b[0;31m \u001b[0;32mif\u001b[0m \u001b[0mfund_scanner\u001b[0m\u001b[0;34m.\u001b[0m\u001b[0mdatabase\u001b[0m \u001b[0;34m==\u001b[0m \u001b[0mdatabase\u001b[0m\u001b[0;34m:\u001b[0m\u001b[0;34m\u001b[0m\u001b[0m\n\u001b[0m\u001b[1;32m      7\u001b[0m     \u001b[0mprint\u001b[0m\u001b[0;34m(\u001b[0m\u001b[0;34m'y'\u001b[0m\u001b[0;34m)\u001b[0m\u001b[0;34m\u001b[0m\u001b[0m\n\u001b[1;32m      8\u001b[0m \u001b[0;34m\u001b[0m\u001b[0m\n",
      "\u001b[0;31mNameError\u001b[0m: name 'database' is not defined"
     ]
    }
   ],
   "source": [
    "#new_df.head()\n",
    "\n",
    "if 1==1:\n",
    "    print('a')\n",
    "\n",
    "if fund_scanner.database == database:\n",
    "    print('y')\n",
    "    \n",
    "db\n"
   ]
  }
 ],
 "metadata": {
  "anaconda-cloud": {},
  "kernelspec": {
   "display_name": "Python [conda root]",
   "language": "python",
   "name": "conda-root-py"
  },
  "language_info": {
   "codemirror_mode": {
    "name": "ipython",
    "version": 3
   },
   "file_extension": ".py",
   "mimetype": "text/x-python",
   "name": "python",
   "nbconvert_exporter": "python",
   "pygments_lexer": "ipython3",
   "version": "3.5.2"
  }
 },
 "nbformat": 4,
 "nbformat_minor": 1
}
