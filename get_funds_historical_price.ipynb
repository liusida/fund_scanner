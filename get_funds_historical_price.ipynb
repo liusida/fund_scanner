{
 "cells": [
  {
   "cell_type": "code",
   "execution_count": 1,
   "metadata": {
    "collapsed": false
   },
   "outputs": [
    {
     "name": "stdout",
     "output_type": "stream",
     "text": [
      "http://fund.eastmoney.com/f10/F10DataApi.aspx?type=lsjz&code=%s&page=1&per=10000&sdate=&edate=&rt=1501197647.0717628\n"
     ]
    }
   ],
   "source": [
    "import base\n",
    "\n",
    "import sys\n",
    "import pandas as pd\n",
    "import json\n",
    "from collections import namedtuple\n",
    "import re\n",
    "import ngender\n",
    "from bs4 import BeautifulSoup\n",
    "import numpy as np\n",
    "import urllib\n",
    "import time\n",
    "\n",
    "# my private modules\n",
    "import fund_scanner.database\n",
    "import fund_scanner.readurl\n",
    "\n",
    "url = 'http://fund.eastmoney.com/f10/F10DataApi.aspx?type=lsjz&code=%s&page=1&per=10000&sdate=&edate=&rt='+str(time.time())\n",
    "\n",
    "print(url)\n",
    "\n",
    "def read_funds_historical_price( funds_code='000001' ):\n",
    "    print('reading ', funds_code)\n",
    "    ret = {}\n",
    "    body = fund_scanner.readurl.read_from_url(url%funds_code)\n",
    "    body = body[re.search('{', body).start():]\n",
    "    insider = re.search('\\\"(.*?)\\\"', body).group(1)\n",
    "    return pd.read_html(insider)\n"
   ]
  },
  {
   "cell_type": "code",
   "execution_count": 2,
   "metadata": {
    "collapsed": false
   },
   "outputs": [],
   "source": [
    "def load_funds_price(funds_code='540006', funds_id=4269):\n",
    "\n",
    "    dfs = read_funds_historical_price(funds_code)\n",
    "\n",
    "    df = dfs[0]\n",
    "\n",
    "    with fund_scanner.database.get_connection() as cursor:\n",
    "\n",
    "        for index, row in df.iterrows():\n",
    "            #print(row['净值日期'])\n",
    "            sql = 'INSERT ignore INTO `funds_historical_price` '+\\\n",
    "            '(`funds_id`, `funds_price_date`, `funds_price`, `funds_price_adjust`, `funds_raising_percentage`) '+\\\n",
    "            'VALUES (%s,%s,%s,%s,%s)'\n",
    "            cursor.execute(sql, (funds_id, row['净值日期'], \n",
    "                                 base.extract_float(row, '单位净值'), base.extract_float(row, '累计净值'), \n",
    "                                 base.extract_percentage(row, '日增长率')))\n",
    "            \n",
    "            sql = 'Update `funds` set `historical_price_time`=Now() where `funds_id`=%s'\n",
    "            cursor.execute(sql, (funds_id))\n",
    "\n",
    "\n"
   ]
  },
  {
   "cell_type": "code",
   "execution_count": 12,
   "metadata": {
    "collapsed": false
   },
   "outputs": [
    {
     "name": "stdout",
     "output_type": "stream",
     "text": [
      "reading  001887\n",
      "reading  002114\n",
      "reading  001822\n",
      "reading  002115\n",
      "reading  660010\n",
      "reading  000039\n",
      "reading  002189\n",
      "reading  001283\n",
      "reading  002108\n",
      "reading  001284\n"
     ]
    }
   ],
   "source": [
    "\n",
    "with fund_scanner.database.get_connection() as cursor:\n",
    "    sql = 'Select * from funds where funds_type=%s order by historical_price_time limit 0,10'\n",
    "    cursor.execute(sql,('混合型'))\n",
    "    result = cursor.fetchall()\n",
    "\n",
    "for row in result:\n",
    "    time.sleep(3)\n",
    "    load_funds_price(funds_code=row['funds_code'], funds_id=row['funds_id'])"
   ]
  }
 ],
 "metadata": {
  "anaconda-cloud": {},
  "kernelspec": {
   "display_name": "Python [conda root]",
   "language": "python",
   "name": "conda-root-py"
  },
  "language_info": {
   "codemirror_mode": {
    "name": "ipython",
    "version": 3
   },
   "file_extension": ".py",
   "mimetype": "text/x-python",
   "name": "python",
   "nbconvert_exporter": "python",
   "pygments_lexer": "ipython3",
   "version": "3.5.2"
  }
 },
 "nbformat": 4,
 "nbformat_minor": 1
}
