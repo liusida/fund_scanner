{
 "cells": [
  {
   "cell_type": "code",
   "execution_count": 2,
   "metadata": {
    "collapsed": true
   },
   "outputs": [],
   "source": [
    "import pandas as pd\n",
    "import logging\n",
    "#from IPython.display import display, HTML\n",
    "\n",
    "\n",
    "import base\n",
    "import fund_scanner.common_tools.logger as logger\n",
    "import fund_scanner.common_tools.database as db\n",
    "import fund_scanner.business.grab_data as grab_data\n",
    "engine = db.get_sqlalchemy_engine()\n",
    "\n",
    "log = logging.getLogger('playing')"
   ]
  },
  {
   "cell_type": "code",
   "execution_count": 19,
   "metadata": {
    "collapsed": false
   },
   "outputs": [
    {
     "data": {
      "text/plain": [
       "107874.99880000002"
      ]
     },
     "execution_count": 19,
     "metadata": {},
     "output_type": "execute_result"
    }
   ],
   "source": [
    "url1 = 'http://q.10jqka.com.cn/thshy/detail/field/199112/order/desc/page/1/ajax/1/code/881166'\n",
    "url2 = 'http://q.10jqka.com.cn/thshy/detail/field/199112/order/desc/page/2/ajax/1/code/881166'\n",
    "\n",
    "df = pd.concat([pd.read_html(url1, encoding='GB2312')[0],pd.read_html(url2, encoding='GB2312')[0]])\n",
    "\n",
    "df = df.reset_index()\n",
    "\n",
    "del df['index']\n",
    "\n",
    "df['流通市值'] = df['流通市值'].str.extract(r'([\\d\\.]*)亿', expand=False).apply(pd.to_numeric)\n",
    "df.loc[df['现价']=='--','现价'] = '0'\n",
    "df['现价'] = df['现价'].apply(pd.to_numeric)\n",
    "\n",
    "df['new'] = df['现价'] * df['流通市值']\n",
    "\n",
    "df['new'].sum()"
   ]
  }
 ],
 "metadata": {
  "anaconda-cloud": {},
  "kernelspec": {
   "display_name": "Python [conda root]",
   "language": "python",
   "name": "conda-root-py"
  },
  "language_info": {
   "codemirror_mode": {
    "name": "ipython",
    "version": 3
   },
   "file_extension": ".py",
   "mimetype": "text/x-python",
   "name": "python",
   "nbconvert_exporter": "python",
   "pygments_lexer": "ipython3",
   "version": "3.5.2"
  }
 },
 "nbformat": 4,
 "nbformat_minor": 1
}
