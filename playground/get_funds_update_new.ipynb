{
 "cells": [
  {
   "cell_type": "code",
   "execution_count": 6,
   "metadata": {
    "collapsed": false
   },
   "outputs": [],
   "source": [
    "import pandas as pd\n",
    "\n",
    "import base\n",
    "import fund_scanner.business.grab_data\n",
    "import fund_scanner.common_tools.database as db\n",
    "engine = db.get_sqlalchemy_engine()"
   ]
  },
  {
   "cell_type": "code",
   "execution_count": 15,
   "metadata": {
    "collapsed": false
   },
   "outputs": [
    {
     "name": "stdout",
     "output_type": "stream",
     "text": [
      "['160125']\n"
     ]
    },
    {
     "name": "stderr",
     "output_type": "stream",
     "text": [
      "/home/liusida/anaconda3/lib/python3.5/site-packages/pymysql/cursors.py:323: Warning: (1265, \"Data truncated for column 'funds_price' at row 1\")\n",
      "  self._do_get_result()\n",
      "/home/liusida/anaconda3/lib/python3.5/site-packages/pymysql/cursors.py:323: Warning: (1265, \"Data truncated for column 'funds_recent_3_year' at row 1\")\n",
      "  self._do_get_result()\n"
     ]
    }
   ],
   "source": [
    "df = pd.read_sql('select * from `funds` order by `update_time` limit 1', engine)\n",
    "funds_code = df['funds_code'].tolist()\n",
    "print(funds_code)\n",
    "fund_scanner.business.grab_data.update_funds(funds_code)"
   ]
  }
 ],
 "metadata": {
  "anaconda-cloud": {},
  "kernelspec": {
   "display_name": "Python [conda root]",
   "language": "python",
   "name": "conda-root-py"
  },
  "language_info": {
   "codemirror_mode": {
    "name": "ipython",
    "version": 3
   },
   "file_extension": ".py",
   "mimetype": "text/x-python",
   "name": "python",
   "nbconvert_exporter": "python",
   "pygments_lexer": "ipython3",
   "version": "3.5.2"
  }
 },
 "nbformat": 4,
 "nbformat_minor": 1
}
