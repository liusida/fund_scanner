{
 "cells": [
  {
   "cell_type": "code",
   "execution_count": 37,
   "metadata": {
    "collapsed": false
   },
   "outputs": [],
   "source": [
    "import lxml.html as LH\n",
    "import pandas as pd\n",
    "from IPython.display import display, HTML\n",
    "\n",
    "import base\n",
    "import fund_scanner.common_tools.database as db\n",
    "engine = db.get_sqlalchemy_engine(dbname='stock_index')\n",
    "\n",
    "import logging\n",
    "import fund_scanner.common_tools.logger as logger\n",
    "log = logging.getLogger('get_indexes')\n"
   ]
  },
  {
   "cell_type": "code",
   "execution_count": 39,
   "metadata": {
    "collapsed": false
   },
   "outputs": [
    {
     "name": "stderr",
     "output_type": "stream",
     "text": [
      "already found some same record.\n"
     ]
    }
   ],
   "source": [
    "url_1 = 'http://data.10jqka.com.cn/funds/hyzjl/field/tradezdf/order/desc/page/1/ajax/1/'\n",
    "url_2 = 'http://data.10jqka.com.cn/funds/hyzjl/field/tradezdf/order/desc/page/2/ajax/1/'\n",
    "\n",
    "def get_dataframe(url):\n",
    "    table = LH.parse(url)\n",
    "    for df in pd.read_html(url, encoding='GB2312'):\n",
    "        df['index_code'] = table.xpath('//tr/td[contains(@class, \"tl\")]/a/@href')\n",
    "        df['index_code'] = df['index_code'].str.extract(r'/code/(\\d+)/', expand=False)\n",
    "        df['涨跌幅'] = df['涨跌幅'].str.extract(r'(.*?)%$', expand=False)\n",
    "        df['涨跌幅.1'] = df['涨跌幅.1'].str.extract(r'(.*?)%$', expand=False)\n",
    "    return df.set_index('序号')\n",
    "\n",
    "df_1 = get_dataframe(url_1)\n",
    "df_2 = get_dataframe(url_2)\n",
    "\n",
    "df = pd.concat([df_1,df_2])\n",
    "df['发布日期'] = pd.to_datetime('today')\n",
    "\n",
    "row_to_compare = 1\n",
    "index_name = df.loc[row_to_compare,'index_code']\n",
    "df_sql = pd.read_sql('select * from stock_indexes where `index_code`=%s order by `发布日期` desc limit 1'%index_name, engine)\n",
    "\n",
    "def write_to_sql(dataframe):\n",
    "    try:\n",
    "        df.to_sql('stock_indexes', engine, if_exists='append')\n",
    "        log.info('{} rows inserted.'.format(len(dataframe)))\n",
    "    except:\n",
    "        log.info('Mysql Error.')\n",
    "\n",
    "\n",
    "if len(df_sql)==0:\n",
    "    write_to_sql(df)\n",
    "else:\n",
    "    if df_sql.loc[0,'行业指数']==df.loc[row_to_compare,'行业指数'] and df_sql.loc[0,'涨跌幅']==float(df.loc[row_to_compare,'涨跌幅']):\n",
    "        log.info('already found some same record.')\n",
    "    else:\n",
    "        write_to_sql(df)\n"
   ]
  },
  {
   "cell_type": "code",
   "execution_count": 36,
   "metadata": {
    "collapsed": false
   },
   "outputs": [
    {
     "name": "stdout",
     "output_type": "stream",
     "text": [
      "same\n",
      "1455.5 1455.5\n",
      "6.29 6.29\n"
     ]
    }
   ],
   "source": []
  }
 ],
 "metadata": {
  "anaconda-cloud": {},
  "kernelspec": {
   "display_name": "Python [conda root]",
   "language": "python",
   "name": "conda-root-py"
  },
  "language_info": {
   "codemirror_mode": {
    "name": "ipython",
    "version": 3
   },
   "file_extension": ".py",
   "mimetype": "text/x-python",
   "name": "python",
   "nbconvert_exporter": "python",
   "pygments_lexer": "ipython3",
   "version": "3.5.2"
  }
 },
 "nbformat": 4,
 "nbformat_minor": 1
}
