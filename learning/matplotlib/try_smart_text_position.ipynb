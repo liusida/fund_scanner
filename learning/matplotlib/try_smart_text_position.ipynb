{
 "cells": [
  {
   "cell_type": "code",
   "execution_count": 37,
   "metadata": {},
   "outputs": [
    {
     "name": "stdout",
     "output_type": "stream",
     "text": [
      "[[1, 1]]\n",
      "search for biger\n",
      "[[1, 1], [0, 1.5]]\n",
      "search for biger\n",
      "[[1, 1], [0, 1.5], [0, 1.5]]\n",
      "search for biger\n",
      "[[1, 1], [0, 1.5], [0, 1.5], [0, 1.5]]\n",
      "search for biger\n",
      "[[1, 1], [0, 1.5], [0, 1.5], [0, 1.5], [0, 1.5]]\n"
     ]
    },
    {
     "data": {
      "image/png": "[encoded data removed]",
      "text/plain": [
       "<matplotlib.figure.Figure at 0x7fea8c4166d8>"
      ]
     },
     "metadata": {},
     "output_type": "display_data"
    }
   ],
   "source": [
    "%matplotlib inline\n",
    "\n",
    "import matplotlib.pyplot as plt\n",
    "import numpy as np\n",
    "\n",
    "fig = plt.figure()\n",
    "ax = fig.gca()\n",
    "\n",
    "#-------------------------------------------------------------------\n",
    "gText = []\n",
    "def check_position(x,y):\n",
    "    r2=2\n",
    "    for x1,y1 in gText:\n",
    "        if (x-x1)**2 + (y-y1)**2 < r2:\n",
    "            return False\n",
    "    return True\n",
    "\n",
    "def best_position(x,y,r=0):\n",
    "    if check_position(x-r,y):\n",
    "        return x-r,y\n",
    "    if check_position(x+r,y):\n",
    "        return x-r,y\n",
    "    if check_position(x-0.7*r,y-0.7*r):\n",
    "        return x-r,y\n",
    "    if check_position(x+0.7*r,y-0.7*r):\n",
    "        return x-r,y\n",
    "    if check_position(x-0.7*r,y+0.7*r):\n",
    "        return x-r,y\n",
    "    if check_position(x+0.7*r,y+0.7*r):\n",
    "        return x-r,y\n",
    "    if check_position(x,y-r):\n",
    "        return x-r,y\n",
    "    if check_position(x,y+r):\n",
    "        return x-r,y\n",
    "    print('search for biger')\n",
    "    return best_position(x,y,r+1)\n",
    "    \n",
    "def text(x, y, text, ax):\n",
    "    x_best, y_best = best_position(x,y)\n",
    "    bgcolor='white'\n",
    "    edgecolor='grey'\n",
    "    ax.text(x_best,y_best,text,\n",
    "            bbox=dict(facecolor=bgcolor, edgecolor=edgecolor, alpha=0.7))\n",
    "    gText.append([x_best,y_best])\n",
    "    print(gText)\n",
    "\n",
    "text(1,1,'yes', ax)\n",
    "text(1,1.5,'no', ax)\n",
    "text(1,1.5,'three', ax)\n",
    "text(1,1.5,'three', ax)\n",
    "text(1,1.5,'three', ax)\n",
    "\n",
    "ax.set_xlim(-5,5)\n",
    "ax.set_ylim(-5,5)\n",
    "\n",
    "plt.show()"
   ]
  }
 ],
 "metadata": {
  "kernelspec": {
   "display_name": "Python [conda root]",
   "language": "python",
   "name": "conda-root-py"
  },
  "language_info": {
   "codemirror_mode": {
    "name": "ipython",
    "version": 3
   },
   "file_extension": ".py",
   "mimetype": "text/x-python",
   "name": "python",
   "nbconvert_exporter": "python",
   "pygments_lexer": "ipython3",
   "version": "3.5.2"
  }
 },
 "nbformat": 4,
 "nbformat_minor": 2
}
