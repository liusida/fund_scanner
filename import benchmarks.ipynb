{
 "cells": [
  {
   "cell_type": "code",
   "execution_count": 8,
   "metadata": {
    "collapsed": true
   },
   "outputs": [],
   "source": [
    "import base\n",
    "\n",
    "import pandas as pd\n",
    "\n",
    "import fund_scanner.database\n",
    "\n"
   ]
  },
  {
   "cell_type": "code",
   "execution_count": 5,
   "metadata": {
    "collapsed": false
   },
   "outputs": [],
   "source": [
    "df = pd.read_csv('http://quotes.money.163.com/service/chddata.html?code=0000001&start=19901219&end=20170727&fields=TCLOSE;HIGH;LOW;TOPEN;LCLOSE;CHG;PCHG;VOTURNOVER;VATURNOVER', encoding = \"gb2312\")\n"
   ]
  },
  {
   "cell_type": "code",
   "execution_count": 9,
   "metadata": {
    "collapsed": false
   },
   "outputs": [
    {
     "data": {
      "text/html": [
       "<div>\n",
       "<style>\n",
       "    .dataframe thead tr:only-child th {\n",
       "        text-align: right;\n",
       "    }\n",
       "\n",
       "    .dataframe thead th {\n",
       "        text-align: left;\n",
       "    }\n",
       "\n",
       "    .dataframe tbody tr th {\n",
       "        vertical-align: top;\n",
       "    }\n",
       "</style>\n",
       "<table border=\"1\" class=\"dataframe\">\n",
       "  <thead>\n",
       "    <tr style=\"text-align: right;\">\n",
       "      <th></th>\n",
       "      <th>日期</th>\n",
       "      <th>股票代码</th>\n",
       "      <th>名称</th>\n",
       "      <th>收盘价</th>\n",
       "      <th>最高价</th>\n",
       "      <th>最低价</th>\n",
       "      <th>开盘价</th>\n",
       "      <th>前收盘</th>\n",
       "      <th>涨跌额</th>\n",
       "      <th>涨跌幅</th>\n",
       "      <th>成交量</th>\n",
       "      <th>成交金额</th>\n",
       "    </tr>\n",
       "  </thead>\n",
       "  <tbody>\n",
       "    <tr>\n",
       "      <th>6506</th>\n",
       "      <td>1990-12-19</td>\n",
       "      <td>'000001</td>\n",
       "      <td>上证指数</td>\n",
       "      <td>99.98</td>\n",
       "      <td>99.98</td>\n",
       "      <td>95.79</td>\n",
       "      <td>96.05</td>\n",
       "      <td>None</td>\n",
       "      <td>None</td>\n",
       "      <td>None</td>\n",
       "      <td>1260</td>\n",
       "      <td>494000.0</td>\n",
       "    </tr>\n",
       "    <tr>\n",
       "      <th>6505</th>\n",
       "      <td>1990-12-20</td>\n",
       "      <td>'000001</td>\n",
       "      <td>上证指数</td>\n",
       "      <td>104.39</td>\n",
       "      <td>104.39</td>\n",
       "      <td>99.98</td>\n",
       "      <td>104.30</td>\n",
       "      <td>99.98</td>\n",
       "      <td>4.41</td>\n",
       "      <td>4.4109</td>\n",
       "      <td>197</td>\n",
       "      <td>84000.0</td>\n",
       "    </tr>\n",
       "  </tbody>\n",
       "</table>\n",
       "</div>"
      ],
      "text/plain": [
       "              日期     股票代码    名称     收盘价     最高价    最低价     开盘价    前收盘   涨跌额  \\\n",
       "6506  1990-12-19  '000001  上证指数   99.98   99.98  95.79   96.05   None  None   \n",
       "6505  1990-12-20  '000001  上证指数  104.39  104.39  99.98  104.30  99.98  4.41   \n",
       "\n",
       "         涨跌幅   成交量      成交金额  \n",
       "6506    None  1260  494000.0  \n",
       "6505  4.4109   197   84000.0  "
      ]
     },
     "execution_count": 9,
     "metadata": {},
     "output_type": "execute_result"
    }
   ],
   "source": [
    "df = df.sort_values(by='日期')\n",
    "df.head(2)\n"
   ]
  },
  {
   "cell_type": "code",
   "execution_count": 10,
   "metadata": {
    "collapsed": true
   },
   "outputs": [],
   "source": [
    "benchmarks_id = 1\n",
    "\n",
    "with fund_scanner.database.get_connection() as cursor:\n",
    "    for index, row in df.iterrows():\n",
    "        #print(row['净值日期'])\n",
    "        sql = 'INSERT ignore INTO `benchmarks_historical_price` '+\\\n",
    "        '(`benchmarks_id`, `benchmarks_price_date`, `benchmarks_price`, `benchmarks_price_adjust`) '+\\\n",
    "        'VALUES (%s,%s,%s,%s)'\n",
    "        cursor.execute(sql, (benchmarks_id, row['日期'], \n",
    "                             base.extract_float(row, '收盘价'), base.extract_float(row, '开盘价')))\n",
    "\n",
    "        sql = 'Update `benchmarks` set `historical_price_time`=Now() where `benchmarks_id`=%s'\n",
    "        cursor.execute(sql, (benchmarks_id))\n"
   ]
  }
 ],
 "metadata": {
  "anaconda-cloud": {},
  "kernelspec": {
   "display_name": "Python [conda root]",
   "language": "python",
   "name": "conda-root-py"
  },
  "language_info": {
   "codemirror_mode": {
    "name": "ipython",
    "version": 3
   },
   "file_extension": ".py",
   "mimetype": "text/x-python",
   "name": "python",
   "nbconvert_exporter": "python",
   "pygments_lexer": "ipython3",
   "version": "3.5.2"
  }
 },
 "nbformat": 4,
 "nbformat_minor": 1
}
