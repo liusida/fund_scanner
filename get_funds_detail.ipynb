{
 "cells": [
  {
   "cell_type": "code",
   "execution_count": 1,
   "metadata": {
    "collapsed": true
   },
   "outputs": [],
   "source": [
    "import base\n",
    "import pandas as pd\n",
    "import json\n",
    "from collections import namedtuple\n",
    "import re\n",
    "import ngender\n",
    "from bs4 import BeautifulSoup\n",
    "import numpy as np\n",
    "\n",
    "import sys\n",
    "sys.stdout.flush()\n",
    "\n",
    "url = 'http://fund.eastmoney.com/%s.html'"
   ]
  },
  {
   "cell_type": "code",
   "execution_count": 2,
   "metadata": {
    "collapsed": true
   },
   "outputs": [],
   "source": [
    "# my private modules\n",
    "import fund_scanner.database\n",
    "import fund_scanner.readurl"
   ]
  },
  {
   "cell_type": "code",
   "execution_count": 3,
   "metadata": {
    "collapsed": false
   },
   "outputs": [],
   "source": [
    "def read_funds_detail( funds_code='000001' ):\n",
    "    print('reading ', funds_code)\n",
    "    ret = {}\n",
    "    try:\n",
    "        html = fund_scanner.readurl.simple_read_from_url(url%funds_code)\n",
    "        soup = BeautifulSoup(html, 'lxml')\n",
    "        match = re.search('基金类型：(.*)', soup.select('div.infoOfFund td')[0].text)\n",
    "        s = match.group(1)\n",
    "        s = s.split('|')\n",
    "        s = s[0].replace(u'\\xa0', '')\n",
    "        ret['funds_type'] = s\n",
    "        ret['funds_start_date'] = soup.select('div.infoOfFund td')[3].text.replace('成 立 日：', '')\n",
    "        ret['recent_1_month'] = soup.select('div.dataOfFund .dataItem01 dd')[1].select('span.ui-num')[0].text\n",
    "        ret['recent_3_month'] = soup.select('div.dataOfFund .dataItem02 dd')[1].select('span.ui-num')[0].text\n",
    "        ret['recent_6_month'] = soup.select('div.dataOfFund .dataItem03 dd')[1].select('span.ui-num')[0].text\n",
    "        ret['recent_1_year']  = soup.select('div.dataOfFund .dataItem01 dd')[2].select('span.ui-num')[0].text\n",
    "        ret['recent_3_year']  = soup.select('div.dataOfFund .dataItem02 dd')[2].select('span.ui-num')[0].text\n",
    "        ret['recent_total']   = soup.select('div.dataOfFund .dataItem03 dd')[2].select('span.ui-num')[0].text\n",
    "        ret['funds_price'] = soup.select('div.dataOfFund .dataItem02 dd')[0].select('span.ui-num')[0].text\n",
    "        ret['funds_price_adjust'] = soup.select('div.dataOfFund .dataItem03 dd')[0].select('span.ui-num')[0].text\n",
    "        match = re.search('基金规模：([\\d\\.]+)亿元', soup.select('div.infoOfFund td')[1].text)\n",
    "        ret['funds_amount'] = match.group(1)\n",
    "    finally:\n",
    "        return ret\n",
    "    \n",
    "#read_funds_detail('000948')\n",
    "#read_funds_detail('161713')"
   ]
  },
  {
   "cell_type": "code",
   "execution_count": 4,
   "metadata": {
    "collapsed": false
   },
   "outputs": [
    {
     "name": "stdout",
     "output_type": "stream",
     "text": [
      "reading  003846\n"
     ]
    }
   ],
   "source": [
    "with fund_scanner.database.get_connection() as cursor:\n",
    "\n",
    "    #Read records\n",
    "    sql = 'select * from `funds` where 1 order by `update_time` limit 0,1;'\n",
    "    cursor.execute(sql)\n",
    "    result = cursor.fetchall()\n",
    "\n",
    "    #fetch the detail data\n",
    "    for item in result:\n",
    "        dic = read_funds_detail(item['funds_code'])\n",
    "\n",
    "        sql = 'update `funds` set `funds_type`=%s, `funds_start_date`=%s, `update_time`=Now() where `funds_code`=%s;'\n",
    "        cursor.execute(sql, (dic['funds_type'], dic['funds_start_date'], item['funds_code']))\n",
    "\n",
    "        columns_to_update = ['funds_price', 'funds_price_adjust', 'funds_amount',\n",
    "                            'funds_recent_1_month', 'funds_recent_3_month', 'funds_recent_6_month',\n",
    "                            'funds_recent_1_year', 'funds_recent_3_year', 'funds_return_total']\n",
    "\n",
    "        sql = 'INSERT INTO `funds_update` ' +\\\n",
    "                '(`funds_id`, `'+('`, `'.join(columns_to_update))+'`, `update_time`) '+\\\n",
    "                'VALUES ('+'%s,'*10+' Now()) ON DUPLICATE KEY UPDATE '+\\\n",
    "                '`'+('`=%s, `'.join(columns_to_update))+'`=%s, `update_time`=Now();'\n",
    "\n",
    "        funds_price = base.extract_percentage(dic,'funds_price')\n",
    "        funds_price_adjust = base.extract_percentage(dic,'funds_price_adjust')\n",
    "        funds_amount = base.extract_percentage(dic,'funds_amount')\n",
    "        recent_1_month = base.extract_percentage(dic,'recent_1_month')\n",
    "        recent_3_month = base.extract_percentage(dic,'recent_3_month')\n",
    "        recent_6_month = base.extract_percentage(dic,'recent_6_month')\n",
    "        recent_1_year = base.extract_percentage(dic,'recent_1_year')\n",
    "        recent_3_year = base.extract_percentage(dic,'recent_3_year')\n",
    "        recent_total = base.extract_percentage(dic,'recent_total')\n",
    "        cursor.execute(sql, (int(item['funds_id']), \n",
    "                             funds_price, funds_price_adjust, funds_amount,\n",
    "                             recent_1_month, recent_3_month, recent_6_month, recent_1_year, recent_3_year, recent_total, \n",
    "                             funds_price, funds_price_adjust, funds_amount,\n",
    "                             recent_1_month, recent_3_month, recent_6_month, recent_1_year, recent_3_year, recent_total))\n",
    "\n"
   ]
  },
  {
   "cell_type": "code",
   "execution_count": 5,
   "metadata": {
    "collapsed": false
   },
   "outputs": [
    {
     "name": "stdout",
     "output_type": "stream",
     "text": [
      "<class 'pymysql.cursors.DictCursor'>\n",
      "<class 'pymysql.cursors.DictCursor'>\n"
     ]
    }
   ],
   "source": [
    "with fund_scanner.database.get_connection() as connection:\n",
    "    print(type(connection))\n",
    "    \n",
    "connection = fund_scanner.database.get_connection()\n",
    "print(type(connection.cursor()))"
   ]
  },
  {
   "cell_type": "code",
   "execution_count": 6,
   "metadata": {
    "collapsed": false
   },
   "outputs": [
    {
     "ename": "NameError",
     "evalue": "name 'extract_percentage' is not defined",
     "output_type": "error",
     "traceback": [
      "\u001b[0;31m---------------------------------------------------------------------------\u001b[0m",
      "\u001b[0;31mNameError\u001b[0m                                 Traceback (most recent call last)",
      "\u001b[0;32m<ipython-input-6-1127d025faba>\u001b[0m in \u001b[0;36m<module>\u001b[0;34m()\u001b[0m\n\u001b[0;32m----> 1\u001b[0;31m \u001b[0mn\u001b[0m \u001b[0;34m=\u001b[0m \u001b[0mextract_percentage\u001b[0m\u001b[0;34m(\u001b[0m\u001b[0;34m'--'\u001b[0m\u001b[0;34m)\u001b[0m\u001b[0;34m\u001b[0m\u001b[0m\n\u001b[0m\u001b[1;32m      2\u001b[0m \u001b[0mprint\u001b[0m\u001b[0;34m(\u001b[0m\u001b[0mn\u001b[0m\u001b[0;34m)\u001b[0m\u001b[0;34m\u001b[0m\u001b[0m\n",
      "\u001b[0;31mNameError\u001b[0m: name 'extract_percentage' is not defined"
     ]
    }
   ],
   "source": [
    "n = extract_percentage('--')\n",
    "print(n)"
   ]
  }
 ],
 "metadata": {
  "anaconda-cloud": {},
  "kernelspec": {
   "display_name": "Python [conda root]",
   "language": "python",
   "name": "conda-root-py"
  },
  "language_info": {
   "codemirror_mode": {
    "name": "ipython",
    "version": 3
   },
   "file_extension": ".py",
   "mimetype": "text/x-python",
   "name": "python",
   "nbconvert_exporter": "python",
   "pygments_lexer": "ipython3",
   "version": "3.5.2"
  }
 },
 "nbformat": 4,
 "nbformat_minor": 1
}
